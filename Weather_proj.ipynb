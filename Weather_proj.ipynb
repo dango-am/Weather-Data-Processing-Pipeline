{
 "cells": [
  {
   "cell_type": "code",
   "execution_count": 103,
   "id": "7e6ade76-ee94-4936-bdc6-d27124ec6baa",
   "metadata": {},
   "outputs": [],
   "source": [
    "import numpy as np\n",
    "import pandas as pd\n",
    "import matplotlib.pyplot as plt\n",
    "import seaborn as sns\n",
    "from datetime import datetime"
   ]
  },
  {
   "cell_type": "code",
   "execution_count": 104,
   "id": "7150b73c-b2b9-4340-a228-e64db372a1a3",
   "metadata": {},
   "outputs": [
    {
     "data": {
      "text/plain": [
       "<bound method NDFrame.head of           date      city  temperature_celsius  humidity_percent  \\\n",
       "0   2023-01-01  New York                  5.0              60.0   \n",
       "1   01/02/2023  New York                  NaN              65.0   \n",
       "2   03-01-2023  New York                  7.0               NaN   \n",
       "3          NaN    London                  8.0              70.0   \n",
       "4   2023-01-02    London                  6.0              75.0   \n",
       "..         ...       ...                  ...               ...   \n",
       "95  01-01-2023    London                  NaN               NaN   \n",
       "96  09-01-2023    London                  NaN               NaN   \n",
       "97  2023-01-11     Tokyo                  NaN               NaN   \n",
       "98  15/01/2023  New York                  NaN              41.0   \n",
       "99  01/12/2023    London                 13.7              41.0   \n",
       "\n",
       "    wind_speed_kph weather_condition  \n",
       "0             10.0             Sunny  \n",
       "1             12.0            Cloudy  \n",
       "2              8.0             Rainy  \n",
       "3             15.0           Unknown  \n",
       "4             20.0             Snowy  \n",
       "..             ...               ...  \n",
       "95             NaN             Rainy  \n",
       "96             NaN             Rainy  \n",
       "97             NaN             Sunny  \n",
       "98            24.3               NaN  \n",
       "99             NaN           Unknown  \n",
       "\n",
       "[100 rows x 6 columns]>"
      ]
     },
     "execution_count": 104,
     "metadata": {},
     "output_type": "execute_result"
    }
   ],
   "source": [
    "data = pd.read_csv(r\"C:\\Users\\dagma\\Documents\\Internship-Data-Engineering-take-home-assignment\\weather_data.csv\")\n",
    "data.head"
   ]
  },
  {
   "cell_type": "code",
   "execution_count": 105,
   "id": "b650bdaf-1726-4c0b-9f66-112c4655c2dd",
   "metadata": {},
   "outputs": [
    {
     "name": "stdout",
     "output_type": "stream",
     "text": [
      "date                   20\n",
      "city                    0\n",
      "temperature_celsius    58\n",
      "humidity_percent       53\n",
      "wind_speed_kph         45\n",
      "weather_condition      16\n",
      "dtype: int64\n"
     ]
    }
   ],
   "source": [
    "print(data.isnull().sum())"
   ]
  },
  {
   "cell_type": "code",
   "execution_count": 106,
   "id": "663c1d0d-35ce-4d7c-925a-aa4cecdb0f95",
   "metadata": {},
   "outputs": [],
   "source": [
    "colum_replace = ['temperature_celsius', 'humidity_percent', 'wind_speed_kph']\n",
    "for col in colum_replace:\n",
    "    data[col] = data[col].fillna(data[col].mean())"
   ]
  },
  {
   "cell_type": "code",
   "execution_count": 107,
   "id": "abb5fb7d-25d2-4593-bbd2-043fc7343960",
   "metadata": {},
   "outputs": [
    {
     "name": "stdout",
     "output_type": "stream",
     "text": [
      "date                   20\n",
      "city                    0\n",
      "temperature_celsius     0\n",
      "humidity_percent        0\n",
      "wind_speed_kph          0\n",
      "weather_condition      16\n",
      "dtype: int64\n"
     ]
    }
   ],
   "source": [
    "print(data.isnull().sum())"
   ]
  },
  {
   "cell_type": "code",
   "execution_count": 108,
   "id": "9c0a28fd-c3d8-476d-8ad7-744449c8ea11",
   "metadata": {},
   "outputs": [],
   "source": [
    "data = data.dropna(subset=['date'])"
   ]
  },
  {
   "cell_type": "code",
   "execution_count": 109,
   "id": "5ca09893-beea-4e36-a656-eb3265ae346c",
   "metadata": {},
   "outputs": [
    {
     "name": "stdout",
     "output_type": "stream",
     "text": [
      "date                    0\n",
      "city                    0\n",
      "temperature_celsius     0\n",
      "humidity_percent        0\n",
      "wind_speed_kph          0\n",
      "weather_condition      12\n",
      "dtype: int64\n"
     ]
    }
   ],
   "source": [
    "print(data.isnull().sum())"
   ]
  },
  {
   "cell_type": "code",
   "execution_count": 111,
   "id": "de26832f-161d-467e-a433-8101fac29fc2",
   "metadata": {},
   "outputs": [
    {
     "name": "stderr",
     "output_type": "stream",
     "text": [
      "C:\\Users\\dagma\\AppData\\Local\\Temp\\ipykernel_5780\\486494807.py:1: SettingWithCopyWarning: \n",
      "A value is trying to be set on a copy of a slice from a DataFrame.\n",
      "Try using .loc[row_indexer,col_indexer] = value instead\n",
      "\n",
      "See the caveats in the documentation: https://pandas.pydata.org/pandas-docs/stable/user_guide/indexing.html#returning-a-view-versus-a-copy\n",
      "  data['date'] = data['date'].astype(str).str.replace(r'[-/.]', '-', regex=True)\n"
     ]
    }
   ],
   "source": [
    "data['date'] = data['date'].astype(str).str.replace(r'[-/.]', '-', regex=True)"
   ]
  },
  {
   "cell_type": "code",
   "execution_count": 128,
   "id": "06d43aa6-3060-4c9f-8b97-f8d07a4d6c51",
   "metadata": {},
   "outputs": [],
   "source": [
    "def convert_date(date_str):\n",
    "    formats = ['%d-%m-%Y', '%m-%d-%Y', '%Y-%m-%d']\n",
    "    for frmt in formats:\n",
    "        try:\n",
    "            return datetime.strptime(date_str, frmt)\n",
    "        except:\n",
    "            continue\n",
    "    return pd.NaT"
   ]
  },
  {
   "cell_type": "code",
   "execution_count": 129,
   "id": "6a648e39-f065-420f-a4d1-2b85e578c630",
   "metadata": {},
   "outputs": [
    {
     "name": "stderr",
     "output_type": "stream",
     "text": [
      "C:\\Users\\dagma\\AppData\\Local\\Temp\\ipykernel_5780\\652334585.py:1: SettingWithCopyWarning: \n",
      "A value is trying to be set on a copy of a slice from a DataFrame.\n",
      "Try using .loc[row_indexer,col_indexer] = value instead\n",
      "\n",
      "See the caveats in the documentation: https://pandas.pydata.org/pandas-docs/stable/user_guide/indexing.html#returning-a-view-versus-a-copy\n",
      "  data['date'] = data['date'].apply(convert_date)\n"
     ]
    }
   ],
   "source": [
    "data['date'] = data['date'].apply(convert_date)\n",
    "data = data[data['date'].notna()]"
   ]
  },
  {
   "cell_type": "code",
   "execution_count": 130,
   "id": "1ea5e60c-cee4-4d80-befd-9d3b03315d9a",
   "metadata": {},
   "outputs": [],
   "source": [
    "data['date'] = pd.to_datetime(data['date']).dt.strftime('%Y-%m-%d')"
   ]
  },
  {
   "cell_type": "code",
   "execution_count": 117,
   "id": "a22d32c7-807d-4b6d-a61d-8c5969dec624",
   "metadata": {},
   "outputs": [],
   "source": [
    "data['temperature_fahrenheit'] = data['temperature_celsius'] * 9/5 + 32"
   ]
  },
  {
   "cell_type": "code",
   "execution_count": 132,
   "id": "00121ad8-b5f2-45e0-86af-c23a305ad689",
   "metadata": {},
   "outputs": [],
   "source": [
    "data = data[(data['weather_condition'].notna()) & (data['weather_condition'] != 'Unknown')]"
   ]
  },
  {
   "cell_type": "code",
   "execution_count": 133,
   "id": "2cf2fa1a-1e60-4318-a9d4-29090e01de1c",
   "metadata": {},
   "outputs": [
    {
     "name": "stdout",
     "output_type": "stream",
     "text": [
      "date                      0\n",
      "city                      0\n",
      "temperature_celsius       0\n",
      "humidity_percent          0\n",
      "wind_speed_kph            0\n",
      "weather_condition         0\n",
      "temperature_fahrenheit    0\n",
      "dtype: int64\n"
     ]
    }
   ],
   "source": [
    "print(data.isnull().sum())"
   ]
  },
  {
   "cell_type": "code",
   "execution_count": 134,
   "id": "ade61fe2-2f52-40db-9520-2f0892d333e8",
   "metadata": {},
   "outputs": [],
   "source": [
    "import os\n",
    "data.to_csv(r'C:\\Users\\dagma\\Documents\\Internship-Data-Engineering-take-home-assignment\\cleaned_weather_data.csv', index=False)\n",
    "data.to_json(r'C:\\Users\\dagma\\Documents\\Internship-Data-Engineering-take-home-assignment\\cleaned_weather_data.json', orient='records', lines=True)"
   ]
  },
  {
   "cell_type": "code",
   "execution_count": 135,
   "id": "d10113d4-6be2-475d-8564-8b0e471dc605",
   "metadata": {},
   "outputs": [],
   "source": [
    "top5_cities = data.groupby('city')['temperature_celsius'].nlargest(5)\n",
    "\n",
    "with open(r'C:\\Users\\dagma\\Documents\\Internship-Data-Engineering-take-home-assignment\\top_5_cities_by_temperature.txt', 'w') as file:\n",
    "    file.write(\"Top 5 Cities by Temperature celsius :\\n\\n\")\n",
    "    for city, temp in top5_cities.items():\n",
    "        file.write(f\"{city}: {temp:.2f} °C\\n\")\n"
   ]
  },
  {
   "cell_type": "code",
   "execution_count": 136,
   "id": "6273061b-f54f-4120-bd40-e5679d99cc22",
   "metadata": {},
   "outputs": [
    {
     "data": {
      "image/png": "[encoded data removed]",
      "text/plain": [
       "<Figure size 1000x600 with 1 Axes>"
      ]
     },
     "metadata": {},
     "output_type": "display_data"
    }
   ],
   "source": [
    "plt.figure(figsize=(10,6))\n",
    "data['temperature_celsius'].plot(kind='bar', color='skyblue')\n",
    "\n",
    "# Add titles and labels\n",
    "plt.title('Average Temperature per City (°C)', fontsize=16)\n",
    "plt.xlabel('City', fontsize=12)\n",
    "plt.ylabel('Average Temperature (°C)', fontsize=12)\n",
    "plt.xticks(rotation=45, ha='right')  # Rotate city names for readability\n",
    "plt.tight_layout()  # Fit everything nicely\n",
    "\n",
    "plt.savefig(r'C:\\Users\\dagma\\Documents\\Internship-Data-Engineering-take-home-assignment\\average_temperature_per_city.png')\n",
    "\n",
    "plt.show()\n"
   ]
  },
  {
   "cell_type": "code",
   "execution_count": null,
   "id": "e1a9bb41-e2fb-4ea5-b6f6-7b5ff2b18798",
   "metadata": {},
   "outputs": [],
   "source": []
  }
 ],
 "metadata": {
  "kernelspec": {
   "display_name": "Python 3 (ipykernel)",
   "language": "python",
   "name": "python3"
  },
  "language_info": {
   "codemirror_mode": {
    "name": "ipython",
    "version": 3
   },
   "file_extension": ".py",
   "mimetype": "text/x-python",
   "name": "python",
   "nbconvert_exporter": "python",
   "pygments_lexer": "ipython3",
   "version": "3.11.7"
  }
 },
 "nbformat": 4,
 "nbformat_minor": 5
}
